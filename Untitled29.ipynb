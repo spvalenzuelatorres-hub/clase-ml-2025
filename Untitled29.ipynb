{
  "nbformat": 4,
  "nbformat_minor": 0,
  "metadata": {
    "colab": {
      "provenance": [],
      "authorship_tag": "ABX9TyPybZ92Nz7KgZEU4bo0oWn5",
      "include_colab_link": true
    },
    "kernelspec": {
      "name": "python3",
      "display_name": "Python 3"
    },
    "language_info": {
      "name": "python"
    }
  },
  "cells": [
    {
      "cell_type": "markdown",
      "metadata": {
        "id": "view-in-github",
        "colab_type": "text"
      },
      "source": [
        "<a href=\"https://colab.research.google.com/github/spvalenzuelatorres-hub/clase-ml-2025/blob/main/Untitled29.ipynb\" target=\"_parent\"><img src=\"https://colab.research.google.com/assets/colab-badge.svg\" alt=\"Open In Colab\"/></a>"
      ]
    },
    {
      "cell_type": "code",
      "source": [
        "# Instala versiones que conviven bien en Colab (Py 3.12)\n",
        "%pip install -U --quiet \"numpy==2.0.2\" \"pandas==2.2.2\" \"scikit-learn==1.6.1\"\n",
        "# LazyPredict desde Git, sin arrastrar dependencias (usa las ya instaladas)\n",
        "%pip install --quiet --no-deps \"git+https://github.com/shankarpandala/lazypredict.git\"\n",
        "\n",
        "# 🔁 REINICIO OBLIGATORIO: NO importes nada antes de esto\n",
        "import os, signal; os.kill(os.getpid(), signal.SIGKILL)\n"
      ],
      "metadata": {
        "colab": {
          "base_uri": "https://localhost:8080/"
        },
        "id": "1wVh5RuXdsQy",
        "outputId": "2cc13646-52f4-469b-de98-62ce6eed77c4"
      },
      "execution_count": null,
      "outputs": [
        {
          "output_type": "stream",
          "name": "stdout",
          "text": [
            "  Preparing metadata (setup.py) ... \u001b[?25l\u001b[?25hdone\n"
          ]
        }
      ]
    },
    {
      "cell_type": "code",
      "source": [
        "import sys, numpy, pandas, sklearn\n",
        "print(\"Python\", sys.version.split()[0])\n",
        "print(\"NumPy\", numpy.__version__, \"| pandas\", pandas.__version__, \"| sklearn\", sklearn.__version__)\n"
      ],
      "metadata": {
        "id": "4_fDnKoPfB4g"
      },
      "execution_count": null,
      "outputs": []
    },
    {
      "cell_type": "code",
      "source": [
        "from google.colab import files\n",
        "up = files.upload()  # elige tu CSV (p.ej., desercion_estudiantil_2000.csv)\n",
        "\n",
        "import pandas as pd\n",
        "csv_name = next(iter(up))\n",
        "df = pd.read_csv(csv_name)\n",
        "print(\"Filas x Columnas:\", df.shape)\n",
        "df.head()\n"
      ],
      "metadata": {
        "id": "GAUJDb0pfpnb"
      },
      "execution_count": null,
      "outputs": []
    },
    {
      "cell_type": "code",
      "source": [
        "import pandas as pd\n",
        "from sklearn.model_selection import train_test_split\n",
        "\n",
        "TARGET = \"abandono\" if \"abandono\" in df.columns else (\"aprobado\" if \"aprobado\" in df.columns else None)\n",
        "assert TARGET is not None, f\"No encuentro la columna objetivo. Columnas: {list(df.columns)[:30]}\"\n",
        "\n",
        "y = df[TARGET].copy()\n",
        "if y.dtype == \"O\":\n",
        "    y = y.replace({'Si':1,'sí':1,'si':1,'Yes':1,'YES':1,'true':1,'True':1,\n",
        "                   'No':0,'no':0,'NO':0,'false':0,'False':0}).astype(int)\n",
        "else:\n",
        "    y = y.astype(int)\n",
        "\n",
        "X = df.drop(columns=[TARGET] + [c for c in ['id','id_estudiante'] if c in df.columns])\n",
        "X = pd.get_dummies(X, drop_first=False)  # LazyPredict necesita X numérico\n",
        "\n",
        "X_trval, X_test, y_trval, y_test = train_test_split(X, y, test_size=0.20, random_state=42, stratify=y)\n",
        "X_train, X_val,  y_train, y_val  = train_test_split(X_trval, y_trval, test_size=0.25, random_state=42, stratify=y_trval)\n",
        "\n",
        "import pandas as pd\n",
        "X_tr = pd.concat([X_train, X_val], axis=0)\n",
        "y_tr = pd.concat([y_train, y_val], axis=0)\n",
        "X_tr.shape, X_test.shape, y_tr.shape, y_test.shape\n"
      ],
      "metadata": {
        "id": "KecCzsTFfxlL"
      },
      "execution_count": null,
      "outputs": []
    },
    {
      "cell_type": "code",
      "source": [
        "from lazypredict.Supervised import LazyClassifier\n",
        "\n",
        "clf = LazyClassifier(verbose=0, ignore_warnings=True, custom_metric=None)\n",
        "models_df, predictions_df = clf.fit(X_tr, X_test, y_tr, y_test)\n",
        "\n",
        "print(\"=== LEADERBOARD (LazyClassifier) ===\")\n",
        "models_df.head(25)\n"
      ],
      "metadata": {
        "id": "cUOMooEuf7CI"
      },
      "execution_count": null,
      "outputs": []
    },
    {
      "cell_type": "code",
      "source": [
        "models_df.to_csv(\"lazyclf_leaderboard.csv\", index=False)\n",
        "print(\"Guardado: lazyclf_leaderboard.csv\")\n"
      ],
      "metadata": {
        "id": "0k6MqKz6hYqV"
      },
      "execution_count": null,
      "outputs": []
    },
    {
      "cell_type": "code",
      "source": [
        "# === Celda 7 ULTRA (sin models_df/predictions_df, a prueba de cortes) ===\n",
        "import numpy as np, pandas as pd\n",
        "from sklearn.metrics import (\n",
        "    accuracy_score, balanced_accuracy_score, f1_score, roc_auc_score\n",
        ")\n",
        "\n",
        "def _signal_auc(model, X):\n",
        "    if hasattr(model, \"predict_proba\"):\n",
        "        try:\n",
        "            return model.predict_proba(X)[:, 1]\n",
        "        except Exception:\n",
        "            pass\n",
        "    if hasattr(model, \"decision_function\"):\n",
        "        try:\n",
        "            return model.decision_function(X)\n",
        "        except Exception:\n",
        "            pass\n",
        "    return None\n",
        "\n",
        "rows = []\n",
        "binary = (len(np.unique(y_test)) == 2)\n",
        "n_test = len(y_test)\n",
        "\n",
        "for name, mdl in getattr(clf, \"models\", {}).items():\n",
        "    # y_pred del modelo actual\n",
        "    try:\n",
        "        y_pred = mdl.predict(X_test)\n",
        "    except Exception:\n",
        "        continue\n",
        "    y_pred = np.asarray(y_pred).ravel().astype(int)\n",
        "    if len(y_pred) != n_test:\n",
        "        continue  # ignora modelos desalineados\n",
        "\n",
        "    acc = accuracy_score(y_test, y_pred)\n",
        "    bal = balanced_accuracy_score(y_test, y_pred)\n",
        "    f1  = f1_score(y_test, y_pred, zero_division=0)\n",
        "\n",
        "    auc = np.nan\n",
        "    if binary:\n",
        "        sig = _signal_auc(mdl, X_test)\n",
        "        if sig is not None:\n",
        "            try:\n",
        "                auc = roc_auc_score(y_test, sig)\n",
        "            except Exception:\n",
        "                pass\n",
        "\n",
        "    rows.append([name, acc, bal, f1, auc])\n",
        "\n",
        "resumen_df = pd.DataFrame(rows, columns=[\"Modelo\",\"Accuracy\",\"BalancedAcc\",\"F1\",\"AUC\"])\n",
        "resumen_df = resumen_df.sort_values([\"BalancedAcc\",\"Accuracy\"], ascending=False)\n",
        "resumen_df.head(10)\n"
      ],
      "metadata": {
        "id": "I_PRR2aTjU9_"
      },
      "execution_count": null,
      "outputs": []
    },
    {
      "cell_type": "code",
      "source": [],
      "metadata": {
        "id": "7cqGZvt9jjw6"
      },
      "execution_count": null,
      "outputs": []
    }
  ]
}